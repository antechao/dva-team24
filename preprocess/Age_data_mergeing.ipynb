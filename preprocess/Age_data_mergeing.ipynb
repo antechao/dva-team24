{
 "cells": [
  {
   "cell_type": "code",
   "execution_count": null,
   "id": "1ddd561c",
   "metadata": {},
   "outputs": [],
   "source": [
    "import pandas as pd\n",
    "import numpy as np"
   ]
  },
  {
   "cell_type": "code",
   "execution_count": null,
   "id": "d5d11ca7",
   "metadata": {},
   "outputs": [],
   "source": [
    "# please add the path of preprocess_data.csv \n",
    "file = \"\" \n",
    "input_df = pd.read_csv(file, sep=',')\n",
    "\n",
    "book = input_df[input_df.age.notnull()]\n",
    "final = book[['user_id', 'isbn', 'age', 'book_title', 'book_author', 'publisher', 'img_m']]\n",
    "\n",
    "final = final.rename(columns={'user_id': 'User-ID', 'isbn': 'ISBN', 'age':'Age', 'book_title':'Book_Title', 'book_author':'Book_Author', 'publisher':'Publisher', 'img_m':'Image-URL-M'})"
   ]
  },
  {
   "cell_type": "code",
   "execution_count": null,
   "id": "10792ea3",
   "metadata": {},
   "outputs": [],
   "source": [
    "# please add your wanted save path as your location\n",
    "your_location = r\"\"\n",
    "output_path = your_location + 'merged_Agedata_final.csv'\n",
    "final.to_csv(output_path, sep=',', index=False)"
   ]
  }
 ],
 "metadata": {
  "kernelspec": {
   "display_name": "Python 3",
   "language": "python",
   "name": "python3"
  },
  "language_info": {
   "codemirror_mode": {
    "name": "ipython",
    "version": 3
   },
   "file_extension": ".py",
   "mimetype": "text/x-python",
   "name": "python",
   "nbconvert_exporter": "python",
   "pygments_lexer": "ipython3",
   "version": "3.8.8"
  }
 },
 "nbformat": 4,
 "nbformat_minor": 5
}
